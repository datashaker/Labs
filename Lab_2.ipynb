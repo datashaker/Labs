{
 "cells": [
  {
   "cell_type": "markdown",
   "metadata": {},
   "source": [
    "# Аппроксимация функций"
   ]
  },
  {
   "cell_type": "markdown",
   "metadata": {},
   "source": [
    "Рассмотрим сложную математическую функцию на отрезке [1, 15]:"
   ]
  },
  {
   "cell_type": "markdown",
   "metadata": {},
   "source": [
    "## $$ f(x) = \\sin(\\frac{x}{5})\\cdot e^\\frac{x}{10} + 5 e^\\frac{-x}{2} $$"
   ]
  },
  {
   "cell_type": "markdown",
   "metadata": {},
   "source": [
    "Часто суть задачи машинного обучения состоит в том, чтобы по некоторым известным значением приблизить сложную зависимость с помощью функции из определенного семейства. В этом задании мы будем приближать указанную функцию с помощью многочленов."
   ]
  },
  {
   "cell_type": "markdown",
   "metadata": {},
   "source": [
    "## $$ f(x) \\approx w_{0} + w_{1} x + w_{2}x^2 ... + w_{n}x^n $$"
   ]
  },
  {
   "cell_type": "code",
   "execution_count": 570,
   "metadata": {
    "collapsed": true
   },
   "outputs": [],
   "source": [
    "import numpy as np\n",
    "import math \n",
    "%matplotlib inline\n",
    "import matplotlib.pyplot as plt\n",
    "from scipy.linalg import solve"
   ]
  },
  {
   "cell_type": "code",
   "execution_count": 571,
   "metadata": {},
   "outputs": [
    {
     "data": {
      "text/plain": [
       "[<matplotlib.lines.Line2D at 0x24645083e48>]"
      ]
     },
     "execution_count": 571,
     "metadata": {},
     "output_type": "execute_result"
    },
    {
     "data": {
      "image/png": "[encoded data removed]",
      "text/plain": [
       "<matplotlib.figure.Figure at 0x24644f15588>"
      ]
     },
     "metadata": {},
     "output_type": "display_data"
    }
   ],
   "source": [
    "def f0(x):\n",
    "    return np.sin(x / 5) * np.exp(x / 10) + 5 * np.exp(-x / 2)\n",
    "f = np.vectorize(f0)\n",
    "x = np.arange(0,30,0.1)\n",
    "plt.plot(x,f(x))"
   ]
  },
  {
   "cell_type": "markdown",
   "metadata": {},
   "source": [
    "Как известно, многочлен степени n однозначно определяется любыми n + 1 различными точками, через которые он проходит. Это значит, что его коэффициенты можно определить из следующей системы линейных уравнений:"
   ]
  },
  {
   "cell_type": "markdown",
   "metadata": {},
   "source": [
    "### $$ А\\vec{w} = \\vec{b} $$"
   ]
  },
  {
   "cell_type": "markdown",
   "metadata": {},
   "source": [
    "\\begin{equation}\n",
    "\\begin{pmatrix} 1 & x_{0} & x_{0}^2 & \\dots  & x_{0}^n \\\\\n",
    "    1 & x_{1} & x_{1}^2 & \\dots  & x_{1}^n \\\\\n",
    "    \\vdots & \\vdots & \\vdots & \\ddots & \\vdots \\\\\n",
    "    1 & x_{n} & x_{n}^2 & \\dots  & x_{n}^n  \n",
    "\\end{pmatrix} \n",
    "\\begin{pmatrix} w_{0} \\\\ w_{1} \\\\\\dots \\\\ w_{n}\n",
    "\\end{pmatrix}\n",
    "=\n",
    "\\begin{pmatrix}\n",
    "f(x_{0}) \\\\ \n",
    "f(x_{1}) \\\\\n",
    "\\dots \\\\\n",
    "f(x_{n}) \n",
    "\\end{pmatrix}\n",
    "\\end{equation}\n",
    "<br/> \n",
    "<br/> \n",
    "Где $ x_{0},x_{1},...,x_{n} $ - некоторые опорные точки"
   ]
  },
  {
   "cell_type": "code",
   "execution_count": 574,
   "metadata": {},
   "outputs": [
    {
     "data": {
      "text/plain": [
       "array([  3.25221687,   1.74684595,   2.13543898,   0.63522142, -11.49852141])"
      ]
     },
     "execution_count": 574,
     "metadata": {},
     "output_type": "execute_result"
    }
   ],
   "source": [
    "points = np.array([1,4,7,15,27])\n",
    "b = f(points)\n",
    "b"
   ]
  },
  {
   "cell_type": "code",
   "execution_count": 572,
   "metadata": {
    "collapsed": true
   },
   "outputs": [],
   "source": [
    "def matrix_build(n,points):\n",
    "    init = np.ones((n,1))\n",
    "    for i in range(1,n):\n",
    "        init = np.column_stack((init,points**i))\n",
    "    return (init)    "
   ]
  },
  {
   "cell_type": "code",
   "execution_count": 573,
   "metadata": {
    "collapsed": true
   },
   "outputs": [],
   "source": [
    "def polynomial_creator(*coefficients):\n",
    "    \"\"\" coefficients are in the form a_0, a_1, ... a_n \n",
    "    \"\"\"\n",
    "    def polynomial(x):\n",
    "        res = 0\n",
    "        for index, coeff in enumerate(coefficients):\n",
    "            res += coeff * x** index\n",
    "        return res\n",
    "    return polynomial"
   ]
  },
  {
   "cell_type": "code",
   "execution_count": 575,
   "metadata": {},
   "outputs": [],
   "source": [
    "A = matrix_build(len(points),points)"
   ]
  },
  {
   "cell_type": "code",
   "execution_count": 576,
   "metadata": {},
   "outputs": [
    {
     "data": {
      "text/plain": [
       "array([  4.58896210e+00,  -1.61436985e+00,   2.96236432e-01,\n",
       "        -1.89594067e-02,   3.47587305e-04])"
      ]
     },
     "execution_count": 576,
     "metadata": {},
     "output_type": "execute_result"
    }
   ],
   "source": [
    "w = solve(A,b)\n",
    "w"
   ]
  },
  {
   "cell_type": "code",
   "execution_count": 577,
   "metadata": {},
   "outputs": [
    {
     "name": "stdout",
     "output_type": "stream",
     "text": [
      "[ -4.44089210e-16   8.88178420e-16  -4.44089210e-15  -9.76996262e-15\n",
      "  -1.24344979e-13]\n"
     ]
    }
   ],
   "source": [
    "check = np.dot(A,w)\n",
    "residual = check -b\n",
    "print (residual)"
   ]
  },
  {
   "cell_type": "code",
   "execution_count": 578,
   "metadata": {
    "collapsed": true
   },
   "outputs": [],
   "source": [
    "p = polynomial_creator(*w[:])\n",
    "y_apr = [p(x) for x in x ]"
   ]
  },
  {
   "cell_type": "code",
   "execution_count": 579,
   "metadata": {},
   "outputs": [
    {
     "data": {
      "text/plain": [
       "<matplotlib.legend.Legend at 0x246450ee6a0>"
      ]
     },
     "execution_count": 579,
     "metadata": {},
     "output_type": "execute_result"
    },
    {
     "data": {
      "image/png": "[encoded data removed]",
      "text/plain": [
       "<matplotlib.figure.Figure at 0x246450b4f60>"
      ]
     },
     "metadata": {},
     "output_type": "display_data"
    }
   ],
   "source": [
    "plt.figure(1)\n",
    "plt.xlim([0,30])\n",
    "plt.plot(x,y,'r-')\n",
    "plt.plot(x,y_apr,'b-')\n",
    "plt.legend(['Real f(x)', 'Approximated f(x) '], loc='lower left')\n"
   ]
  },
  {
   "cell_type": "markdown",
   "metadata": {},
   "source": [
    "### При увеличении кол-ва точек степень полинома увеличивается и качество апроксимации соответственно улучшается."
   ]
  }
 ],
 "metadata": {
  "kernelspec": {
   "display_name": "Python 3",
   "language": "python",
   "name": "python3"
  },
  "language_info": {
   "codemirror_mode": {
    "name": "ipython",
    "version": 3
   },
   "file_extension": ".py",
   "mimetype": "text/x-python",
   "name": "python",
   "nbconvert_exporter": "python",
   "pygments_lexer": "ipython3",
   "version": "3.6.3"
  }
 },
 "nbformat": 4,
 "nbformat_minor": 2
}
