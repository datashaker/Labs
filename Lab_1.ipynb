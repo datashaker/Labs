{
 "cells": [
  {
   "cell_type": "markdown",
   "metadata": {
    "collapsed": true
   },
   "source": [
    "# Сходство текстов"
   ]
  },
  {
   "cell_type": "markdown",
   "metadata": {},
   "source": [
    "### Задача — найти два предложения, которые ближе всего по смыслу к расположенному в самой первой строке. В качестве меры близости по смыслу мы будем использовать косинусное расстояние."
   ]
  },
  {
   "cell_type": "code",
   "execution_count": 1,
   "metadata": {
    "collapsed": true
   },
   "outputs": [],
   "source": [
    "import re \n",
    "from collections import Counter\n",
    "my_file = open('sentences.txt')"
   ]
  },
  {
   "cell_type": "markdown",
   "metadata": {},
   "source": [
    "#### Создадим словарь для которого все различные слова текста это индексы, а кол-во их повторений это значения. Посмотрим какие слова чаще всего встречаются."
   ]
  },
  {
   "cell_type": "code",
   "execution_count": 2,
   "metadata": {},
   "outputs": [
    {
     "name": "stdout",
     "output_type": "stream",
     "text": [
      "[('the', 20), ('of', 19), ('to', 14), ('and', 14), ('a', 13), ('in', 11), ('cat', 10), ('x', 9), ('apple', 8), ('os', 8)]\n"
     ]
    }
   ],
   "source": [
    "tokens = []\n",
    "sentences = []\n",
    "lines_counter = 0\n",
    "for line in my_file:\n",
    "    newline = re.split('[^a-z]',line.lower())\n",
    "    token = [el for el in newline if el != '']\n",
    "    tokens += token\n",
    "    sentences.append(token)\n",
    "#word_dict = dict([(x,tokens.count(x)) for x in set(tokens)])\n",
    "word_dict = dict(Counter(tokens))\n",
    "print (Counter(tokens).most_common(10))\n",
    "my_file.close()"
   ]
  },
  {
   "cell_type": "markdown",
   "metadata": {},
   "source": [
    "#### Cоздадим матрицу входимости слов в предложения размера n*d  , где  n кол-во предложений в тексте, а d это кол-во слов. "
   ]
  },
  {
   "cell_type": "code",
   "execution_count": 3,
   "metadata": {},
   "outputs": [
    {
     "name": "stdout",
     "output_type": "stream",
     "text": [
      "кол-во слов =  254\n",
      "размерность матрицы =  (22, 254)\n"
     ]
    }
   ],
   "source": [
    "import numpy as np\n",
    "my_file = open('sentences.txt')\n",
    "matrix = []\n",
    "d = (len(word_dict))\n",
    "print ('кол-во слов = ',d)\n",
    "line_num = 0\n",
    "dict_keys_list = list(word_dict.keys())\n",
    "for line in my_file:\n",
    "    line_count = [sentences[lines_counter].count(word) for word in dict_keys_list ]\n",
    "    lines_counter += 1\n",
    "    matrix.append(line_count)\n",
    "np_matrix = np.array(matrix)\n",
    "print ('размерность матрицы = ',np_matrix.shape)\n",
    "np.set_printoptions(threshold=np.inf)\n",
    "np_matrix.tofile('my_last.csv',sep=',',format='%10.1f')\n",
    "my_file.close()"
   ]
  },
  {
   "cell_type": "markdown",
   "metadata": {},
   "source": [
    "### Посчитаем меру сходства предложений используя формулу :\n",
    "$$ Cosine distance  = 1 - \\frac{(u , v)} {||u||_2 ||v||_2} $$\n",
    "   Соответсвенно, чем меньше это число тем более похожи предложения"
   ]
  },
  {
   "cell_type": "code",
   "execution_count": 4,
   "metadata": {},
   "outputs": [
    {
     "name": "stdout",
     "output_type": "stream",
     "text": [
      "Вектор мер схожести первого предложения с остальными:\n",
      "\n",
      " [0.95275444087384664, 0.86447381456421235, 0.89517151632780823, 0.77708871496985887, 0.94023856953328033, 0.7327387580875756, 0.92587506833388988, 0.88427248752843102, 0.90550888174769317, 0.83281653622739416, 0.88047713906656067, 0.83964325485254543, 0.87035925528956715, 0.87401184233025764, 0.94427217874246472, 0.84063618542208085, 0.95664450152379399, 0.94427217874246472, 0.88854435748492944, 0.84275727449171223, 0.82503644694405864]\n"
     ]
    }
   ],
   "source": [
    "from scipy.spatial.distance import cosine\n",
    "first_raw = matrix[0] \n",
    "cosine_vec = []\n",
    "for raw in np_matrix[1:]:\n",
    "    cosine_vec.append(cosine(first_raw,raw))\n",
    "print ('Вектор мер схожести первого предложения с остальными:\\n\\n', cosine_vec)\n",
    "np_cosine = np.array(cosine_vec)"
   ]
  },
  {
   "cell_type": "code",
   "execution_count": 5,
   "metadata": {
    "collapsed": true
   },
   "outputs": [],
   "source": [
    "import codecs\n",
    "file = codecs.open('Lab1_output.txt', encoding = 'utf-8', mode ='w') \n",
    "result = ('Отсортированый по близости расстояний массив индексов предложений = {}'.format(np.argsort(np_cosine)+2))\n",
    "file.write(result)\n",
    "file.close()"
   ]
  },
  {
   "cell_type": "markdown",
   "metadata": {},
   "source": [
    "### Заданое предложение:\n",
    "In comparison to dogs, cats have not undergone major changes during the domestication process.\n",
    "### Найденное ближайшее по смыслу предложение:\n",
    "Domestic cats are similar in size to the other members of the genus Felis, typically weighing between 4 and 5 kg (8.8 and 11.0 lb)."
   ]
  }
 ],
 "metadata": {
  "kernelspec": {
   "display_name": "Python 3",
   "language": "python",
   "name": "python3"
  },
  "language_info": {
   "codemirror_mode": {
    "name": "ipython",
    "version": 3
   },
   "file_extension": ".py",
   "mimetype": "text/x-python",
   "name": "python",
   "nbconvert_exporter": "python",
   "pygments_lexer": "ipython3",
   "version": "3.6.3"
  }
 },
 "nbformat": 4,
 "nbformat_minor": 2
}
